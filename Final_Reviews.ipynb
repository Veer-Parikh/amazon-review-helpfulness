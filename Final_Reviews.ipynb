{
  "nbformat": 4,
  "nbformat_minor": 0,
  "metadata": {
    "colab": {
      "provenance": [],
      "gpuType": "T4"
    },
    "kernelspec": {
      "name": "python3",
      "display_name": "Python 3"
    },
    "language_info": {
      "name": "python"
    },
    "accelerator": "GPU"
  },
  "cells": [
    {
      "cell_type": "code",
      "execution_count": null,
      "metadata": {
        "id": "5aqrc3-5X6Ou"
      },
      "outputs": [],
      "source": [
        "import pandas as pd\n",
        "import numpy as np\n",
        "import re\n",
        "import matplotlib.pyplot as plt\n",
        "from sklearn.model_selection import train_test_split, GridSearchCV\n",
        "from sklearn.metrics import accuracy_score, classification_report, confusion_matrix\n",
        "from sklearn.ensemble import RandomForestClassifier\n",
        "from sklearn.preprocessing import StandardScaler\n",
        "from sklearn.pipeline import Pipeline\n",
        "from sklearn.feature_extraction.text import TfidfVectorizer\n",
        "from sklearn.decomposition import TruncatedSVD\n",
        "from textblob import TextBlob\n",
        "import spacy\n",
        "from imblearn.over_sampling import SMOTE\n",
        "import joblib"
      ]
    },
    {
      "cell_type": "code",
      "source": [
        "from google.colab import drive\n",
        "drive.mount('/content/drive')"
      ],
      "metadata": {
        "colab": {
          "base_uri": "https://localhost:8080/"
        },
        "id": "K-q8P6MYY_5N",
        "outputId": "6d0146bc-4b88-4a7e-eae0-5ffc46b14ecb"
      },
      "execution_count": null,
      "outputs": [
        {
          "output_type": "stream",
          "name": "stdout",
          "text": [
            "Mounted at /content/drive\n"
          ]
        }
      ]
    },
    {
      "cell_type": "code",
      "source": [
        "nlp = spacy.load('en_core_web_sm')\n",
        "\n",
        "# --- 🧹 Helper Functions ---\n",
        "def clean_text(text):\n",
        "    \"\"\"More sophisticated text cleaning\"\"\"\n",
        "    if not isinstance(text, str):\n",
        "        return \"\"\n",
        "\n",
        "    # Basic cleaning\n",
        "    text = text.lower()\n",
        "    text = re.sub(r'<[^>]+>', '', text)  # Remove HTML tags\n",
        "    text = re.sub(r'http\\S+|www\\S+|https\\S+', '', text)  # Remove URLs\n",
        "    text = re.sub(r'\\s+', ' ', text).strip()  # Remove extra whitespace\n",
        "\n",
        "    # Advanced cleaning with spaCy\n",
        "    doc = nlp(text)\n",
        "    cleaned_tokens = []\n",
        "    for token in doc:\n",
        "        if not token.is_stop and not token.is_punct and not token.is_space:\n",
        "            cleaned_tokens.append(token.lemma_)\n",
        "\n",
        "    return ' '.join(cleaned_tokens)\n",
        "\n",
        "def calculate_readability(text):\n",
        "    \"\"\"Calculate Flesch Reading Ease score\"\"\"\n",
        "    sentence_count = len(re.split(r'[.!?]', text))\n",
        "    word_count = len(text.split())\n",
        "    syllable_count = sum([len(re.findall(r'[aeiouy]+', word.lower())) for word in text.split()])\n",
        "\n",
        "    if word_count == 0 or sentence_count == 0:\n",
        "        return 0\n",
        "\n",
        "    return 206.835 - 1.015 * (word_count/sentence_count) - 84.6 * (syllable_count/word_count)"
      ],
      "metadata": {
        "id": "zbNzA3ETYIcv"
      },
      "execution_count": null,
      "outputs": []
    },
    {
      "cell_type": "code",
      "source": [
        "def read_data():\n",
        "    \"\"\"Load data with proper error handling\"\"\"\n",
        "    try:\n",
        "        df = pd.read_csv(\"/content/drive/MyDrive/customer_reviews/amazon_reviews_us_Major_Appliances_v1_00.tsv\", on_bad_lines=\"skip\",sep=\"\\t\", header=0, dtype={\n",
        "            \"marketplace\": str,\n",
        "            \"customer_id\": str,\n",
        "            \"review_id\": str,\n",
        "            \"product_id\": str,\n",
        "            \"product_parent\": str,\n",
        "            \"product_title\": str,\n",
        "            \"product_category\": str,\n",
        "            \"star_rating\": int,\n",
        "            \"helpful_votes\": int,\n",
        "            \"total_votes\": int,\n",
        "            \"vine\": str,\n",
        "            \"verified_purchase\": str,\n",
        "            \"review_headline\": str,\n",
        "            \"review_body\": str,\n",
        "            \"review_date\": str\n",
        "        })\n",
        "        print(f\"Data loaded successfully with {len(df)} records\")\n",
        "        return df\n",
        "    except Exception as e:\n",
        "        print(f\"Error loading data: {e}\")\n",
        "        return None\n",
        "\n",
        "df = read_data()"
      ],
      "metadata": {
        "colab": {
          "base_uri": "https://localhost:8080/"
        },
        "id": "oKD6wlP2YUsi",
        "outputId": "d665d44d-3a3b-4214-faa7-bb62c799fa7d"
      },
      "execution_count": null,
      "outputs": [
        {
          "output_type": "stream",
          "name": "stdout",
          "text": [
            "Data loaded successfully with 96834 records\n"
          ]
        }
      ]
    },
    {
      "cell_type": "code",
      "source": [
        "def preprocess_data(df):\n",
        "    \"\"\"Comprehensive data preprocessing\"\"\"\n",
        "    if df is None:\n",
        "        return None\n",
        "\n",
        "    # Filter: total_votes >= 5 (more inclusive than original)\n",
        "    df = df[df['total_votes'] >= 5].copy()\n",
        "\n",
        "    # Create 'helpfulness' label: 1 if helpful votes ratio >= 0.5, else 0\n",
        "    df['helpfulness'] = (df['helpful_votes'] / df['total_votes'] >= 0.5).astype(int)\n",
        "\n",
        "    # Drop rows missing critical fields\n",
        "    df.dropna(subset=['review_body', 'star_rating'], inplace=True)\n",
        "\n",
        "    # Clean review text\n",
        "    df['cleaned_review'] = df['review_body'].apply(clean_text)\n",
        "\n",
        "    # Filter: review_length >= 10 words (more meaningful than 5)\n",
        "    df = df[df['cleaned_review'].apply(lambda x: len(x.split()) >= 10)]\n",
        "\n",
        "    # Remove duplicate reviews based on cleaned text and star rating\n",
        "    df = df.drop_duplicates(subset=['cleaned_review', 'star_rating'])\n",
        "\n",
        "    # Balance the dataset (handle class imbalance)\n",
        "    print(\"\\nClass distribution before balancing:\")\n",
        "    print(df['helpfulness'].value_counts(normalize=True))\n",
        "\n",
        "    return df\n",
        "\n",
        "df = preprocess_data(df)"
      ],
      "metadata": {
        "id": "prPumQo-YV_G",
        "colab": {
          "base_uri": "https://localhost:8080/"
        },
        "outputId": "fddf84c1-6597-4436-d178-243275129e72"
      },
      "execution_count": null,
      "outputs": [
        {
          "output_type": "stream",
          "name": "stdout",
          "text": [
            "\n",
            "Class distribution before balancing:\n",
            "helpfulness\n",
            "1    0.924463\n",
            "0    0.075537\n",
            "Name: proportion, dtype: float64\n"
          ]
        }
      ]
    },
    {
      "cell_type": "code",
      "source": [
        "def create_features(df):\n",
        "    \"\"\"Create comprehensive features for modeling\"\"\"\n",
        "    if df is None:\n",
        "        return None\n",
        "\n",
        "    # Textual Features\n",
        "    df['review_length'] = df['cleaned_review'].apply(lambda x: len(x.split()))\n",
        "    df['exclamations'] = df['review_body'].apply(lambda x: x.count('!'))\n",
        "    df['questions'] = df['review_body'].apply(lambda x: x.count('?'))\n",
        "    df['sentiment'] = df['cleaned_review'].apply(lambda x: TextBlob(x).sentiment.polarity)\n",
        "    df['subjectivity'] = df['cleaned_review'].apply(lambda x: TextBlob(x).sentiment.subjectivity)\n",
        "    df['readability'] = df['review_body'].apply(calculate_readability)\n",
        "\n",
        "    # Time-based features\n",
        "    df['review_date'] = pd.to_datetime(df['review_date'])\n",
        "    df['days_since_first'] = (df['review_date'] - df['review_date'].min()).dt.days\n",
        "\n",
        "    # Product features\n",
        "    df['product_review_count'] = df.groupby('product_id')['review_id'].transform('count')\n",
        "\n",
        "    # Reviewer features\n",
        "    df['reviewer_review_count'] = df.groupby('customer_id')['review_id'].transform('count')\n",
        "\n",
        "    return df\n",
        "\n",
        "df = create_features(df)"
      ],
      "metadata": {
        "id": "eFvhQpcpYcmm"
      },
      "execution_count": null,
      "outputs": []
    },
    {
      "cell_type": "code",
      "source": [
        "def split_data(df):\n",
        "    \"\"\"Split data into train and test sets\"\"\"\n",
        "    if df is None:\n",
        "        return None, None, None, None\n",
        "\n",
        "    # Features to use\n",
        "    numeric_features = ['star_rating', 'review_length', 'exclamations', 'questions',\n",
        "                       'sentiment', 'subjectivity', 'readability', 'days_since_first',\n",
        "                       'product_review_count', 'reviewer_review_count']\n",
        "\n",
        "    X_text = df['cleaned_review']\n",
        "    X_numeric = df[numeric_features]\n",
        "    y = df['helpfulness']\n",
        "\n",
        "    # Split with stratification to maintain class distribution\n",
        "    X_train_text, X_test_text, X_train_num, X_test_num, y_train, y_test = train_test_split(\n",
        "        X_text, X_numeric, y, test_size=0.2, random_state=42, stratify=y\n",
        "    )\n",
        "\n",
        "    return X_train_text, X_test_text, X_train_num, X_test_num, y_train, y_test\n",
        "\n",
        "X_train_text, X_test_text, X_train_num, X_test_num, y_train, y_test = split_data(df)\n"
      ],
      "metadata": {
        "id": "O6Uspq99YfGm"
      },
      "execution_count": null,
      "outputs": []
    },
    {
      "cell_type": "code",
      "source": [
        "def process_features(X_train_text, X_test_text, X_train_num, X_test_num):\n",
        "    \"\"\"Process text and numeric features\"\"\"\n",
        "    # Text processing pipeline\n",
        "    text_pipe = Pipeline([\n",
        "        ('tfidf', TfidfVectorizer(max_features=5000, ngram_range=(1, 2))),\n",
        "        ('svd', TruncatedSVD(n_components=100))\n",
        "    ])\n",
        "\n",
        "    X_train_text_processed = text_pipe.fit_transform(X_train_text)\n",
        "    X_test_text_processed = text_pipe.transform(X_test_text)\n",
        "\n",
        "    # Numeric feature processing\n",
        "    num_scaler = StandardScaler()\n",
        "    X_train_num_processed = num_scaler.fit_transform(X_train_num)\n",
        "    X_test_num_processed = num_scaler.transform(X_test_num)\n",
        "\n",
        "    # Combine features\n",
        "    X_train = np.hstack((X_train_num_processed, X_train_text_processed))\n",
        "    X_test = np.hstack((X_test_num_processed, X_test_text_processed))\n",
        "\n",
        "    # Handle class imbalance with SMOTE\n",
        "    smote = SMOTE(random_state=42)\n",
        "    X_train_resampled, y_train_resampled = smote.fit_resample(X_train, y_train)\n",
        "\n",
        "    return X_train_resampled, X_test, y_train_resampled, y_test, text_pipe, num_scaler\n",
        "\n",
        "X_train, X_test, y_train, y_test, text_pipe, num_scaler = process_features(\n",
        "    X_train_text, X_test_text, X_train_num, X_test_num\n",
        ")"
      ],
      "metadata": {
        "id": "z17aSxqlYjac"
      },
      "execution_count": null,
      "outputs": []
    },
    {
      "cell_type": "code",
      "source": [
        "def train_model(X_train, y_train):\n",
        "    \"\"\"Train model with hyperparameter tuning\"\"\"\n",
        "    # Use Random Forest which often works better for this type of problem\n",
        "    param_grid = {\n",
        "        'n_estimators': [100, 200],\n",
        "        'max_depth': [None, 10, 20],\n",
        "        'min_samples_split': [2, 5],\n",
        "        'min_samples_leaf': [1, 2]\n",
        "    }\n",
        "\n",
        "    model = GridSearchCV(\n",
        "        RandomForestClassifier(class_weight='balanced', random_state=42),\n",
        "        param_grid,\n",
        "        cv=3,\n",
        "        scoring='f1',\n",
        "        n_jobs=-1,\n",
        "        verbose=1\n",
        "    )\n",
        "\n",
        "    model.fit(X_train, y_train)\n",
        "\n",
        "    print(\"\\nBest model parameters:\")\n",
        "    print(model.best_params_)\n",
        "\n",
        "    return model.best_estimator_\n",
        "\n",
        "model = train_model(X_train, y_train)\n"
      ],
      "metadata": {
        "id": "3T0tScRIYlBl",
        "colab": {
          "base_uri": "https://localhost:8080/"
        },
        "outputId": "c5d2af4f-fe80-4488-fcdc-69d8acc149a7"
      },
      "execution_count": null,
      "outputs": [
        {
          "output_type": "stream",
          "name": "stdout",
          "text": [
            "Fitting 3 folds for each of 24 candidates, totalling 72 fits\n",
            "\n",
            "Best model parameters:\n",
            "{'max_depth': None, 'min_samples_leaf': 1, 'min_samples_split': 5, 'n_estimators': 200}\n"
          ]
        }
      ]
    },
    {
      "cell_type": "code",
      "source": [
        "def evaluate_model(model, X_test, y_test):\n",
        "    \"\"\"Comprehensive model evaluation\"\"\"\n",
        "    y_pred = model.predict(X_test)\n",
        "\n",
        "    print(\"\\nModel Evaluation:\")\n",
        "    print(f\"Accuracy: {accuracy_score(y_test, y_pred):.4f}\")\n",
        "    print(\"\\nClassification Report:\")\n",
        "    print(classification_report(y_test, y_pred))\n",
        "\n",
        "    # Confusion matrix\n",
        "    cm = confusion_matrix(y_test, y_pred)\n",
        "    plt.figure(figsize=(8, 6))\n",
        "    sns.heatmap(cm, annot=True, fmt='d', cmap='Blues',\n",
        "                xticklabels=['Not Helpful', 'Helpful'],\n",
        "                yticklabels=['Not Helpful', 'Helpful'])\n",
        "    plt.xlabel('Predicted')\n",
        "    plt.ylabel('Actual')\n",
        "    plt.title('Confusion Matrix')\n",
        "    plt.show()\n",
        "\n",
        "    # Feature importance\n",
        "    if hasattr(model, 'feature_importances_'):\n",
        "        feature_names = list(X_train_num.columns) + [f\"text_feature_{i}\" for i in range(100)]\n",
        "        importances = model.feature_importances_\n",
        "        indices = np.argsort(importances)[-20:]  # Top 20 features\n",
        "\n",
        "        plt.figure(figsize=(10, 8))\n",
        "        plt.title('Top 20 Feature Importances')\n",
        "        plt.barh(range(len(indices)), importances[indices], align='center')\n",
        "        plt.yticks(range(len(indices)), [feature_names[i] for i in indices])\n",
        "        plt.xlabel('Relative Importance')\n",
        "        plt.show()\n",
        "\n",
        "evaluate_model(model, X_test, y_test)"
      ],
      "metadata": {
        "id": "TeMoSE4mYxH-",
        "colab": {
          "base_uri": "https://localhost:8080/",
          "height": 1000
        },
        "outputId": "104bbe00-2b9f-4c3a-e11f-04d840b81911"
      },
      "execution_count": null,
      "outputs": [
        {
          "output_type": "stream",
          "name": "stdout",
          "text": [
            "\n",
            "Model Evaluation:\n",
            "Accuracy: 0.8868\n",
            "\n",
            "Classification Report:\n",
            "              precision    recall  f1-score   support\n",
            "\n",
            "           0       0.18      0.14      0.16       314\n",
            "           1       0.93      0.95      0.94      3838\n",
            "\n",
            "    accuracy                           0.89      4152\n",
            "   macro avg       0.56      0.55      0.55      4152\n",
            "weighted avg       0.87      0.89      0.88      4152\n",
            "\n"
          ]
        },
        {
          "output_type": "display_data",
          "data": {
            "text/plain": [
              "<Figure size 800x600 with 2 Axes>"
            ],
            "image/png": "[encoded data removed]"
          },
          "metadata": {}
        },
        {
          "output_type": "display_data",
          "data": {
            "text/plain": [
              "<Figure size 1000x800 with 1 Axes>"
            ],
            "image/png": "[encoded data removed]"
          },
          "metadata": {}
        }
      ]
    },
    {
      "cell_type": "code",
      "source": [
        "import joblib\n",
        "import os\n",
        "\n",
        "# Make sure folder exists\n",
        "MODEL_DIR = '/content/drive/MyDrive/customer_reviews/'\n",
        "os.makedirs(MODEL_DIR, exist_ok=True)\n",
        "\n",
        "# Save models\n",
        "joblib.dump(model, MODEL_DIR + 'helpfulness_model.pkl')\n",
        "joblib.dump(text_pipe, MODEL_DIR + 'text_pipeline.pkl')\n",
        "joblib.dump(num_scaler, MODEL_DIR + 'numeric_scaler.pkl')\n",
        "\n",
        "print(\"✅ Models saved into Drive.\")"
      ],
      "metadata": {
        "colab": {
          "base_uri": "https://localhost:8080/"
        },
        "id": "H_b6uPD6qq49",
        "outputId": "c6f65dcd-54dc-40db-bab4-63653f079358"
      },
      "execution_count": null,
      "outputs": [
        {
          "output_type": "stream",
          "name": "stdout",
          "text": [
            "✅ Models saved into Drive.\n"
          ]
        }
      ]
    },
    {
      "cell_type": "code",
      "source": [
        "from deep_translator import GoogleTranslator\n",
        "\n",
        "def predict_helpfulness(rating, review_text):\n",
        "    \"\"\"Predict helpfulness of a new review with multilingual support\"\"\"\n",
        "    try:\n",
        "        # Load model and preprocessing objects\n",
        "        model = joblib.load('/content/drive/MyDrive/customer_reviews/helpfulness_model.pkl')\n",
        "        text_pipe = joblib.load('/content/drive/MyDrive/customer_reviews/text_pipeline.pkl')\n",
        "        num_scaler = joblib.load('/content/drive/MyDrive/customer_reviews/numeric_scaler.pkl')\n",
        "\n",
        "        # Translate review to English if not already\n",
        "        try:\n",
        "            translated_text = GoogleTranslator(source='auto', target='en').translate(review_text)\n",
        "        except Exception as trans_error:\n",
        "            print(f\"Translation failed: {trans_error}\")\n",
        "            translated_text = review_text  # fallback to original if translation fails\n",
        "\n",
        "        # Clean and process the translated review text\n",
        "        cleaned = clean_text(translated_text)\n",
        "\n",
        "        # Create text features\n",
        "        text_vector = text_pipe.transform([cleaned])\n",
        "\n",
        "        # Create numeric features\n",
        "        length = len(cleaned.split())\n",
        "        exclamations = translated_text.count('!')\n",
        "        questions = translated_text.count('?')\n",
        "        sentiment = TextBlob(cleaned).sentiment.polarity\n",
        "        subjectivity = TextBlob(cleaned).sentiment.subjectivity\n",
        "        readability = calculate_readability(translated_text)\n",
        "\n",
        "        # For new reviews, we can't compute some features, so we'll use median values\n",
        "        numeric_features = np.array([\n",
        "            rating, length, exclamations, questions,\n",
        "            sentiment, subjectivity, readability,\n",
        "            0,  # days_since_first (unknown for new reviews)\n",
        "            1,  # product_review_count (minimum)\n",
        "            1   # reviewer_review_count (minimum)\n",
        "        ]).reshape(1, -1)\n",
        "\n",
        "        # Scale numeric features\n",
        "        numeric_features_scaled = num_scaler.transform(numeric_features)\n",
        "\n",
        "        # Combine features\n",
        "        feature_vector = np.hstack((numeric_features_scaled, text_vector))\n",
        "\n",
        "        # Make prediction\n",
        "        prediction = model.predict(feature_vector)\n",
        "        proba = model.predict_proba(feature_vector)[0]\n",
        "\n",
        "        return {\n",
        "            'prediction': 'Helpful' if prediction[0] == 1 else 'Not Helpful',\n",
        "            'confidence': float(proba.max()),\n",
        "            'details': {\n",
        "                'rating': rating,\n",
        "                'length': length,\n",
        "                'sentiment': float(sentiment),\n",
        "                'readability': float(readability),\n",
        "                'helpful_prob': float(proba[1]),\n",
        "                'not_helpful_prob': float(proba[0]),\n",
        "                'original_review': review_text,\n",
        "                'translated_review': translated_text\n",
        "            }\n",
        "        }\n",
        "    except Exception as e:\n",
        "        print(f\"Prediction error: {e}\")\n",
        "        return {'error': str(e)}"
      ],
      "metadata": {
        "id": "AoCVb7QHY71U"
      },
      "execution_count": null,
      "outputs": []
    },
    {
      "cell_type": "code",
      "source": [
        "import joblib\n",
        "examples = [\n",
        "    (5, \"I absolutely love this product! It exceeded all my expectations. The quality is outstanding and it arrived much faster than expected. Highly recommended to anyone considering this purchase.\"),\n",
        "    (2, \"El producto fue decepcionante. Se veía mucho mejor en las fotos que en la realidad. El material se siente barato y se rompió después de solo unos pocos usos. No lo recomendaría.\"),\n",
        "    (1, \"यह उत्पाद बेकार है। पैसे की बर्बादी। मत खरीदो।\"),\n",
        "    (4, \"Bon produit dans l'ensemble, mais il y a quelques problèmes mineurs. La couleur est légèrement différente de celle montrée sur la photo.\"),\n",
        "    (3, \"It's okay. Not great, not terrible. Does what it's supposed to but nothing special. I expected better quality for the price.\")\n",
        "\n",
        "\n",
        "]\n",
        "\n",
        "print(\"\\nExample Predictions:\")\n",
        "for rating, review in examples:\n",
        "    result = predict_helpfulness(rating, review)\n",
        "    print(f\"\\nRating: {rating}\")\n",
        "    print(f\"Review: {review[:100]}...\")\n",
        "    print(f\"Prediction: {result['prediction']} (Confidence: {result['confidence']:.2f})\")\n",
        "    print(f\"Details: {result['details']}\")"
      ],
      "metadata": {
        "colab": {
          "base_uri": "https://localhost:8080/"
        },
        "id": "hd_4HvIdrckz",
        "outputId": "004c20de-1d0e-4a01-e8d6-fa84086313ab"
      },
      "execution_count": null,
      "outputs": [
        {
          "output_type": "stream",
          "name": "stdout",
          "text": [
            "\n",
            "Example Predictions:\n"
          ]
        },
        {
          "output_type": "stream",
          "name": "stderr",
          "text": [
            "/usr/local/lib/python3.11/dist-packages/sklearn/utils/validation.py:2739: UserWarning: X does not have valid feature names, but StandardScaler was fitted with feature names\n",
            "  warnings.warn(\n"
          ]
        },
        {
          "output_type": "stream",
          "name": "stdout",
          "text": [
            "\n",
            "Rating: 5\n",
            "Review: I absolutely love this product! It exceeded all my expectations. The quality is outstanding and it a...\n",
            "Prediction: Helpful (Confidence: 0.63)\n",
            "Details: {'rating': 5, 'length': 14, 'sentiment': 0.33999999999999997, 'readability': 22.886714285714305, 'helpful_prob': 0.6306904761904761, 'not_helpful_prob': 0.36930952380952375, 'original_review': 'I absolutely love this product! It exceeded all my expectations. The quality is outstanding and it arrived much faster than expected. Highly recommended to anyone considering this purchase.', 'translated_review': 'I absolutely love this product! It exceeded all my expectations. The quality is outstanding and it arrived much faster than expected. Highly recommended to anyone considering this purchase.'}\n"
          ]
        },
        {
          "output_type": "stream",
          "name": "stderr",
          "text": [
            "/usr/local/lib/python3.11/dist-packages/sklearn/utils/validation.py:2739: UserWarning: X does not have valid feature names, but StandardScaler was fitted with feature names\n",
            "  warnings.warn(\n"
          ]
        },
        {
          "output_type": "stream",
          "name": "stdout",
          "text": [
            "\n",
            "Rating: 2\n",
            "Review: El producto fue decepcionante. Se veía mucho mejor en las fotos que en la realidad. El material se s...\n",
            "Prediction: Not Helpful (Confidence: 0.57)\n",
            "Details: {'rating': 2, 'length': 12, 'sentiment': -0.09999999999999998, 'readability': 71.025, 'helpful_prob': 0.42913095238095245, 'not_helpful_prob': 0.5708690476190477, 'original_review': 'El producto fue decepcionante. Se veía mucho mejor en las fotos que en la realidad. El material se siente barato y se rompió después de solo unos pocos usos. No lo recomendaría.', 'translated_review': 'The product was disappointing. It looked much better in the photos than in reality. The material feels cheap and broke after just a few uses. I would not recommend it.'}\n"
          ]
        },
        {
          "output_type": "stream",
          "name": "stderr",
          "text": [
            "/usr/local/lib/python3.11/dist-packages/sklearn/utils/validation.py:2739: UserWarning: X does not have valid feature names, but StandardScaler was fitted with feature names\n",
            "  warnings.warn(\n"
          ]
        },
        {
          "output_type": "stream",
          "name": "stdout",
          "text": [
            "\n",
            "Rating: 1\n",
            "Review: यह उत्पाद बेकार है। पैसे की बर्बादी। मत खरीदो।...\n",
            "Prediction: Helpful (Confidence: 0.58)\n",
            "Details: {'rating': 1, 'length': 5, 'sentiment': -0.35, 'readability': 76.55166666666669, 'helpful_prob': 0.5771488095238095, 'not_helpful_prob': 0.4228511904761904, 'original_review': 'यह उत्पाद बेकार है। पैसे की बर्बादी। मत खरीदो।', 'translated_review': 'This product is useless. Waste of money. Do not buy'}\n"
          ]
        },
        {
          "output_type": "stream",
          "name": "stderr",
          "text": [
            "/usr/local/lib/python3.11/dist-packages/sklearn/utils/validation.py:2739: UserWarning: X does not have valid feature names, but StandardScaler was fitted with feature names\n",
            "  warnings.warn(\n"
          ]
        },
        {
          "output_type": "stream",
          "name": "stdout",
          "text": [
            "\n",
            "Rating: 4\n",
            "Review: Bon produit dans l'ensemble, mais il y a quelques problèmes mineurs. La couleur est légèrement diffé...\n",
            "Prediction: Helpful (Confidence: 0.55)\n",
            "Details: {'rating': 4, 'length': 10, 'sentiment': 0.16249999999999998, 'readability': 60.47833333333335, 'helpful_prob': 0.5469940476190476, 'not_helpful_prob': 0.4530059523809524, 'original_review': \"Bon produit dans l'ensemble, mais il y a quelques problèmes mineurs. La couleur est légèrement différente de celle montrée sur la photo.\", 'translated_review': 'Good product overall, but there are some minor problems. The color is slightly different from that shown in the photo.'}\n",
            "\n",
            "Rating: 3\n",
            "Review: It's okay. Not great, not terrible. Does what it's supposed to but nothing special. I expected bette...\n",
            "Prediction: Helpful (Confidence: 0.62)\n",
            "Details: {'rating': 3, 'length': 9, 'sentiment': 0.1642857142857143, 'readability': 65.60057142857144, 'helpful_prob': 0.618095238095238, 'not_helpful_prob': 0.3819047619047619, 'original_review': \"It's okay. Not great, not terrible. Does what it's supposed to but nothing special. I expected better quality for the price.\", 'translated_review': \"It's okay. Not great, not terrible. Does what it's supposed to but nothing special. I expected better quality for the price.\"}\n"
          ]
        },
        {
          "output_type": "stream",
          "name": "stderr",
          "text": [
            "/usr/local/lib/python3.11/dist-packages/sklearn/utils/validation.py:2739: UserWarning: X does not have valid feature names, but StandardScaler was fitted with feature names\n",
            "  warnings.warn(\n"
          ]
        }
      ]
    },
    {
      "cell_type": "code",
      "source": [
        "!pip install deep_translator"
      ],
      "metadata": {
        "colab": {
          "base_uri": "https://localhost:8080/"
        },
        "id": "Dv89SQTApquT",
        "outputId": "e8f932da-3781-436b-8d7d-148adc774642"
      },
      "execution_count": null,
      "outputs": [
        {
          "output_type": "stream",
          "name": "stdout",
          "text": [
            "Collecting deep_translator\n",
            "  Downloading deep_translator-1.11.4-py3-none-any.whl.metadata (30 kB)\n",
            "Requirement already satisfied: beautifulsoup4<5.0.0,>=4.9.1 in /usr/local/lib/python3.11/dist-packages (from deep_translator) (4.13.4)\n",
            "Requirement already satisfied: requests<3.0.0,>=2.23.0 in /usr/local/lib/python3.11/dist-packages (from deep_translator) (2.32.3)\n",
            "Requirement already satisfied: soupsieve>1.2 in /usr/local/lib/python3.11/dist-packages (from beautifulsoup4<5.0.0,>=4.9.1->deep_translator) (2.7)\n",
            "Requirement already satisfied: typing-extensions>=4.0.0 in /usr/local/lib/python3.11/dist-packages (from beautifulsoup4<5.0.0,>=4.9.1->deep_translator) (4.13.2)\n",
            "Requirement already satisfied: charset-normalizer<4,>=2 in /usr/local/lib/python3.11/dist-packages (from requests<3.0.0,>=2.23.0->deep_translator) (3.4.1)\n",
            "Requirement already satisfied: idna<4,>=2.5 in /usr/local/lib/python3.11/dist-packages (from requests<3.0.0,>=2.23.0->deep_translator) (3.10)\n",
            "Requirement already satisfied: urllib3<3,>=1.21.1 in /usr/local/lib/python3.11/dist-packages (from requests<3.0.0,>=2.23.0->deep_translator) (2.3.0)\n",
            "Requirement already satisfied: certifi>=2017.4.17 in /usr/local/lib/python3.11/dist-packages (from requests<3.0.0,>=2.23.0->deep_translator) (2025.1.31)\n",
            "Downloading deep_translator-1.11.4-py3-none-any.whl (42 kB)\n",
            "\u001b[?25l   \u001b[90m━━━━━━━━━━━━━━━━━━━━━━━━━━━━━━━━━━━━━━━━\u001b[0m \u001b[32m0.0/42.3 kB\u001b[0m \u001b[31m?\u001b[0m eta \u001b[36m-:--:--\u001b[0m\r\u001b[2K   \u001b[90m━━━━━━━━━━━━━━━━━━━━━━━━━━━━━━━━━━━━━━━━\u001b[0m \u001b[32m42.3/42.3 kB\u001b[0m \u001b[31m3.7 MB/s\u001b[0m eta \u001b[36m0:00:00\u001b[0m\n",
            "\u001b[?25hInstalling collected packages: deep_translator\n",
            "Successfully installed deep_translator-1.11.4\n"
          ]
        }
      ]
    },
    {
      "cell_type": "code",
      "source": [
        "!pip install seaborn\n",
        "import seaborn as sns"
      ],
      "metadata": {
        "colab": {
          "base_uri": "https://localhost:8080/"
        },
        "id": "iGjKxpHkqSl1",
        "outputId": "8bc8ff5a-4f56-4ded-a3fe-163cc2596f9a"
      },
      "execution_count": null,
      "outputs": [
        {
          "output_type": "stream",
          "name": "stdout",
          "text": [
            "Requirement already satisfied: seaborn in /usr/local/lib/python3.11/dist-packages (0.13.2)\n",
            "Requirement already satisfied: numpy!=1.24.0,>=1.20 in /usr/local/lib/python3.11/dist-packages (from seaborn) (2.0.2)\n",
            "Requirement already satisfied: pandas>=1.2 in /usr/local/lib/python3.11/dist-packages (from seaborn) (2.2.2)\n",
            "Requirement already satisfied: matplotlib!=3.6.1,>=3.4 in /usr/local/lib/python3.11/dist-packages (from seaborn) (3.10.0)\n",
            "Requirement already satisfied: contourpy>=1.0.1 in /usr/local/lib/python3.11/dist-packages (from matplotlib!=3.6.1,>=3.4->seaborn) (1.3.2)\n",
            "Requirement already satisfied: cycler>=0.10 in /usr/local/lib/python3.11/dist-packages (from matplotlib!=3.6.1,>=3.4->seaborn) (0.12.1)\n",
            "Requirement already satisfied: fonttools>=4.22.0 in /usr/local/lib/python3.11/dist-packages (from matplotlib!=3.6.1,>=3.4->seaborn) (4.57.0)\n",
            "Requirement already satisfied: kiwisolver>=1.3.1 in /usr/local/lib/python3.11/dist-packages (from matplotlib!=3.6.1,>=3.4->seaborn) (1.4.8)\n",
            "Requirement already satisfied: packaging>=20.0 in /usr/local/lib/python3.11/dist-packages (from matplotlib!=3.6.1,>=3.4->seaborn) (24.2)\n",
            "Requirement already satisfied: pillow>=8 in /usr/local/lib/python3.11/dist-packages (from matplotlib!=3.6.1,>=3.4->seaborn) (11.1.0)\n",
            "Requirement already satisfied: pyparsing>=2.3.1 in /usr/local/lib/python3.11/dist-packages (from matplotlib!=3.6.1,>=3.4->seaborn) (3.2.3)\n",
            "Requirement already satisfied: python-dateutil>=2.7 in /usr/local/lib/python3.11/dist-packages (from matplotlib!=3.6.1,>=3.4->seaborn) (2.8.2)\n",
            "Requirement already satisfied: pytz>=2020.1 in /usr/local/lib/python3.11/dist-packages (from pandas>=1.2->seaborn) (2025.2)\n",
            "Requirement already satisfied: tzdata>=2022.7 in /usr/local/lib/python3.11/dist-packages (from pandas>=1.2->seaborn) (2025.2)\n",
            "Requirement already satisfied: six>=1.5 in /usr/local/lib/python3.11/dist-packages (from python-dateutil>=2.7->matplotlib!=3.6.1,>=3.4->seaborn) (1.17.0)\n"
          ]
        }
      ]
    },
    {
      "cell_type": "code",
      "source": [
        "examples = [\n",
        "    (1, \"यह उत्पाद बेकार है। पैसे की बर्बादी। मत खरीदो।\"),\n",
        "    (4, \"Bon produit dans l'ensemble, mais il y a quelques problèmes mineurs. La couleur est légèrement différente de celle montrée sur la photo.\"),\n",
        "    (2,\"बहुत बढ़िया उत्पाद! पूरी तरह से संतुष्ट हूं।\")\n",
        "\n",
        "\n",
        "\n",
        "]\n",
        "\n",
        "print(\"\\nExample Predictions:\")\n",
        "for rating, review in examples:\n",
        "    result = predict_helpfulness(rating, review)\n",
        "    print(f\"\\nRating: {rating}\")\n",
        "    print(f\"Review: {review[:100]}...\")\n",
        "    print(f\"Prediction: {result['prediction']} (Confidence: {result['confidence']:.2f})\")\n",
        "    print(f\"Details: {result['details']}\")"
      ],
      "metadata": {
        "colab": {
          "base_uri": "https://localhost:8080/"
        },
        "id": "LrKYmG-UXns2",
        "outputId": "f975604e-382a-4226-8594-1358a7341fd2"
      },
      "execution_count": null,
      "outputs": [
        {
          "output_type": "stream",
          "name": "stdout",
          "text": [
            "\n",
            "Example Predictions:\n"
          ]
        },
        {
          "output_type": "stream",
          "name": "stderr",
          "text": [
            "/usr/local/lib/python3.11/dist-packages/sklearn/utils/validation.py:2739: UserWarning: X does not have valid feature names, but StandardScaler was fitted with feature names\n",
            "  warnings.warn(\n"
          ]
        },
        {
          "output_type": "stream",
          "name": "stdout",
          "text": [
            "\n",
            "Rating: 1\n",
            "Review: यह उत्पाद बेकार है। पैसे की बर्बादी। मत खरीदो।...\n",
            "Prediction: Helpful (Confidence: 0.58)\n",
            "Details: {'rating': 1, 'length': 5, 'sentiment': -0.35, 'readability': 76.55166666666669, 'helpful_prob': 0.5771488095238095, 'not_helpful_prob': 0.4228511904761904, 'original_review': 'यह उत्पाद बेकार है। पैसे की बर्बादी। मत खरीदो।', 'translated_review': 'This product is useless. Waste of money. Do not buy'}\n"
          ]
        },
        {
          "output_type": "stream",
          "name": "stderr",
          "text": [
            "/usr/local/lib/python3.11/dist-packages/sklearn/utils/validation.py:2739: UserWarning: X does not have valid feature names, but StandardScaler was fitted with feature names\n",
            "  warnings.warn(\n"
          ]
        },
        {
          "output_type": "stream",
          "name": "stdout",
          "text": [
            "\n",
            "Rating: 4\n",
            "Review: Bon produit dans l'ensemble, mais il y a quelques problèmes mineurs. La couleur est légèrement diffé...\n",
            "Prediction: Helpful (Confidence: 0.55)\n",
            "Details: {'rating': 4, 'length': 10, 'sentiment': 0.16249999999999998, 'readability': 60.47833333333335, 'helpful_prob': 0.5469940476190476, 'not_helpful_prob': 0.4530059523809524, 'original_review': \"Bon produit dans l'ensemble, mais il y a quelques problèmes mineurs. La couleur est légèrement différente de celle montrée sur la photo.\", 'translated_review': 'Good product overall, but there are some minor problems. The color is slightly different from that shown in the photo.'}\n",
            "\n",
            "Rating: 2\n",
            "Review: बहुत बढ़िया उत्पाद! पूरी तरह से संतुष्ट हूं।...\n",
            "Prediction: Not Helpful (Confidence: 0.55)\n",
            "Details: {'rating': 2, 'length': 4, 'sentiment': 0.75, 'readability': 7.405000000000001, 'helpful_prob': 0.44995238095238094, 'not_helpful_prob': 0.5500476190476191, 'original_review': 'बहुत बढ़िया उत्पाद! पूरी तरह से संतुष्ट हूं।', 'translated_review': 'Excellent product! I am completely satisfied.'}\n"
          ]
        },
        {
          "output_type": "stream",
          "name": "stderr",
          "text": [
            "/usr/local/lib/python3.11/dist-packages/sklearn/utils/validation.py:2739: UserWarning: X does not have valid feature names, but StandardScaler was fitted with feature names\n",
            "  warnings.warn(\n"
          ]
        }
      ]
    }
  ]
}